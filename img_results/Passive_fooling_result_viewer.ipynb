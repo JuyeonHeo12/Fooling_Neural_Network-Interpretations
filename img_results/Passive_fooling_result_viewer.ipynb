{
 "cells": [
  {
   "cell_type": "code",
   "execution_count": 1,
   "metadata": {},
   "outputs": [],
   "source": [
    "import os\n",
    "import matplotlib.pyplot as plt\n",
    "import numpy as np\n",
    "from ipywidgets import interactive"
   ]
  },
  {
   "cell_type": "code",
   "execution_count": 2,
   "metadata": {},
   "outputs": [],
   "source": [
    "num_image = 16\n",
    "num_epoch = 19\n",
    "eval_period = 10000\n",
    "test_acc_index = -1\n",
    "batch_size = 2\n",
    "interpreter_list = ['ori', 'grad_cam', 'lrp_T', 'smooth_grad_T', 'smooth_grad']\n",
    "threshold = 0.15"
   ]
  },
  {
   "cell_type": "code",
   "execution_count": 3,
   "metadata": {},
   "outputs": [],
   "source": [
    "class Result_viewer:\n",
    "    def __init__(self, img_name, num_image, num_epoch, eval_period):\n",
    "        self.img_name = img_name\n",
    "        self.direc_path = './'+img_name+'/'\n",
    "        self.num_image = num_image\n",
    "        self.num_epoch = num_epoch\n",
    "        self.eval_period = eval_period\n",
    "#         self.loss_dict_val = np.load(self.direc_path+img_name+'_loss_dict_val.npy').item()\n",
    "        \n",
    "    def save_img(self):\n",
    "        \n",
    "        \n",
    "        direc_path = self.direc_path\n",
    "        num_image = self.num_image\n",
    "        num_epoch = self.num_epoch\n",
    "        eval_period = self.eval_period\n",
    "        \n",
    "        l = len(interpreter_list)\n",
    "        \n",
    "        self.R_dict = {}\n",
    "        \n",
    "        for key in interpreter_list:\n",
    "            self.R_dict[key] = []\n",
    "\n",
    "        for epoch in range(num_epoch):\n",
    "            for i, interpreter in enumerate(interpreter_list):\n",
    "                for img_no in range(num_image):\n",
    "                    file_name = interpreter + '_epoch'+str(epoch * eval_period) + '_no-'+str(img_no) + '.png'\n",
    "                    im = plt.imread(direc_path+file_name)\n",
    "                    self.R_dict[interpreter].append(im)\n",
    "        \n",
    "        for key in interpreter_list:\n",
    "            self.R_dict[key] = self.to_arr(self.R_dict[key])\n",
    "        print('Image load finished')\n",
    "        \n",
    "    def to_arr(self,x):\n",
    "        return np.array(x).reshape(-1,num_image,224,224,3).transpose(0,1,3,2,4).reshape(-1,224*num_image,224,3).transpose(0,2,1,3)\n",
    "\n",
    "    def load_img(self):\n",
    "        direc_path = self.direc_path\n",
    "        num_image = self.num_image\n",
    "        num_epoch = self.num_epoch\n",
    "        eval_period = self.eval_period\n",
    "        \n",
    "        l = len(interpreter_list)\n",
    "\n",
    "        plt.figure(figsize=(10,10))\n",
    "        plt.subplot(221)\n",
    "        test_acc = np.load(direc_path + self.img_name + '_test_acc.npy')\n",
    "        plt.title('test_acc')\n",
    "        plt.plot(test_acc)\n",
    "\n",
    "        plt.subplot(222)\n",
    "        test_acc = np.load(direc_path + self.img_name + 'entropy_grad_R.npy')\n",
    "        plt.title('entropy_grad')\n",
    "        plt.plot(test_acc)\n",
    "\n",
    "        plt.subplot(223)\n",
    "        test_acc = np.load(direc_path + self.img_name + 'entropy_lrp34_R.npy')\n",
    "        plt.title('entropy_lrp34')\n",
    "        plt.plot(test_acc)\n",
    "\n",
    "        plt.subplot(224)\n",
    "        test_acc = np.load(direc_path + self.img_name + 'entropy_lrp_R.npy')\n",
    "        plt.title('entropy_lrp')\n",
    "        plt.plot(test_acc)\n",
    "        plt.show()\n",
    "\n",
    "    def show(self):\n",
    "        direc_path = self.direc_path\n",
    "        num_image = self.num_image\n",
    "        num_epoch = self.num_epoch\n",
    "        eval_period = self.eval_period\n",
    "        \n",
    "        def f(iter):\n",
    "            print(interpreter_list)\n",
    "            i = iter// self.eval_period\n",
    "            arr = []\n",
    "            for key in self.R_dict.keys():\n",
    "#                 if key != 'ori':\n",
    "#                     print(key, ['%.3f ' % k for k in self.loss_dict_val[key][i][:num_image]])\n",
    "                arr.append(self.R_dict[key][i])\n",
    "            arr = np.array(arr)\n",
    "            arr = arr.reshape(-1, 224*num_image, 3)\n",
    "            \n",
    "            plt.figure(figsize=(3*num_image,3*len(self.R_dict.keys())))\n",
    "            plt.imshow(arr)\n",
    "            plt.axis('off')\n",
    "            plt.show()\n",
    "            \n",
    "            \n",
    "        interactive_plot = interactive(f, iter = (0, (num_epoch-1)*eval_period, eval_period))\n",
    "        output = interactive_plot.children[-1]\n",
    "        output.layout.height = str(100+int(130*8/num_image*len(self.R_dict.keys())))+'px'\n",
    "        return interactive_plot"
   ]
  },
  {
   "cell_type": "code",
   "execution_count": 4,
   "metadata": {},
   "outputs": [
    {
     "data": {
      "text/plain": [
       "['190926_after_simplify_VGG19_simple_grad34_frame_lr_1e-4_lambda_1_camera',\n",
       " '190926_after_simplify_VGG19_simple_grad34_frame_lr_3e-5_lambda_4_camera']"
      ]
     },
     "execution_count": 4,
     "metadata": {},
     "output_type": "execute_result"
    }
   ],
   "source": [
    "img_name_list = []\n",
    "for img_name in os.listdir('./'):\n",
    "    if 'camera' in img_name and '190926' in img_name and 'debugging' not in img_name and '0.25' not in img_name:\n",
    "        img_name_list.append(img_name)\n",
    "img_name_list.sort()\n",
    "img_name_list"
   ]
  },
  {
   "cell_type": "code",
   "execution_count": 5,
   "metadata": {
    "scrolled": false
   },
   "outputs": [
    {
     "name": "stdout",
     "output_type": "stream",
     "text": [
      "0.72376 0.26146 -0.46229999999999993\n",
      "0.72376 0.51616 -0.2076\n"
     ]
    },
    {
     "data": {
      "image/png": "[encoded data removed]",
      "text/plain": [
       "<Figure size 720x720 with 1 Axes>"
      ]
     },
     "metadata": {},
     "output_type": "display_data"
    },
    {
     "name": "stdout",
     "output_type": "stream",
     "text": [
      "0.90876 0.52648 -0.38228000000000006\n",
      "0.90876 0.77538 -0.13338000000000005\n"
     ]
    },
    {
     "data": {
      "image/png": "[encoded data removed]",
      "text/plain": [
       "<Figure size 720x720 with 1 Axes>"
      ]
     },
     "metadata": {},
     "output_type": "display_data"
    }
   ],
   "source": [
    "\n",
    "img_list = img_name_list\n",
    "\n",
    "plt.figure(figsize=(10,10))\n",
    "for img_name in img_list:\n",
    "    try:\n",
    "        direc_path = './'+img_name+'/'\n",
    "\n",
    "        \n",
    "        l = len(interpreter_list)\n",
    "\n",
    "        test_acc = np.load(direc_path + img_name + '_test_acc1.npy') \n",
    "        print(test_acc[0], test_acc[test_acc_index], test_acc[test_acc_index] - test_acc[0])\n",
    "#         print(test_acc[0], test_acc[87], test_acc[87] - test_acc[0])\n",
    "#         print(test_acc[0], test_acc[6], test_acc[6] - test_acc[0])\n",
    "\n",
    "        plt.title('test_acc')\n",
    "        plt.plot(test_acc, label=img_name)\n",
    "    except:\n",
    "        pass\n",
    "\n",
    "plt.legend()\n",
    "plt.ylim(0, 0.8)\n",
    "plt.show()\n",
    "\n",
    "plt.figure(figsize=(10,10))\n",
    "for img_name in img_list:\n",
    "    try:\n",
    "        direc_path = './'+img_name+'/'\n",
    "\n",
    "        l = len(interpreter_list)\n",
    "\n",
    "        test_acc = np.load(direc_path + img_name + '_test_acc5.npy')\n",
    "        print(test_acc[0], test_acc[test_acc_index], test_acc[test_acc_index] - test_acc[0])\n",
    "        plt.title('test_acc')\n",
    "        plt.plot(test_acc, label=img_name)\n",
    "    except:\n",
    "        pass\n",
    "\n",
    "\n",
    "plt.legend()\n",
    "plt.ylim(0, 0.95)\n",
    "plt.show()\n",
    "\n",
    "\n",
    "for img_name in img_list:\n",
    "    try:\n",
    "        direc_path = './'+img_name+'/'\n",
    "        loss_c = np.load(direc_path + img_name + '_loss_c.npy')\n",
    "        loss_r = np.load(direc_path + img_name + '_loss_r.npy')\n",
    "        loss_t = np.load(direc_path + img_name + '_loss_t.npy')\n",
    "        loss_dict = np.load(direc_path+img_name+'_loss_dict.npy').item()\n",
    "        \n",
    "        plt.figure(figsize=(12,4))\n",
    "        plt.title(img_name)\n",
    "        \n",
    "        plt.subplot(131)\n",
    "        plt.title('train_loss')\n",
    "        plt.plot(loss_c, label='loss_c')\n",
    "        plt.plot(loss_r, label='loss_r')\n",
    "        plt.plot(loss_t, label='loss_t')\n",
    "        plt.legend()\n",
    "        \n",
    "        plt.subplot(132)\n",
    "        plt.title('test_loss')\n",
    "        for key in loss_dict.keys():\n",
    "            arr = np.array(loss_dict[key])\n",
    "            means = arr.mean(axis=1)\n",
    "            print(key, ['%.3f ' % k for k in means])\n",
    "            plt.plot(means, label=key)\n",
    "        plt.legend()\n",
    "        \n",
    "        plt.subplot(133)\n",
    "        plt.title('threshold')\n",
    "        for key in loss_dict.keys():\n",
    "            arr = np.array(loss_dict[key])\n",
    "            plt.plot((arr>threshold).mean(axis=1), label=key)\n",
    "        plt.legend()\n",
    "        \n",
    "        print(loss_r[0], loss_r[-1])\n",
    "        plt.legend()\n",
    "        #plt.ylim(0, 0.92)\n",
    "        plt.show()\n",
    "    except:\n",
    "        pass\n"
   ]
  },
  {
   "cell_type": "code",
   "execution_count": 6,
   "metadata": {},
   "outputs": [
    {
     "name": "stdout",
     "output_type": "stream",
     "text": [
      "Image load finished\n",
      "Image load finished\n"
     ]
    }
   ],
   "source": [
    "class_dict = {}\n",
    "error_list = []\n",
    "for img_name in img_name_list:\n",
    "    try:\n",
    "        class_dict[img_name] = Result_viewer(img_name, num_image, num_epoch, eval_period)\n",
    "        class_dict[img_name].save_img()\n",
    "#         class_dict[img_name].load_img()\n",
    "    except:\n",
    "        error_list.append(img_name)\n",
    "        "
   ]
  },
  {
   "cell_type": "code",
   "execution_count": 7,
   "metadata": {},
   "outputs": [
    {
     "data": {
      "text/plain": [
       "[]"
      ]
     },
     "execution_count": 7,
     "metadata": {},
     "output_type": "execute_result"
    }
   ],
   "source": [
    "error_list"
   ]
  },
  {
   "cell_type": "raw",
   "metadata": {
    "scrolled": false
   },
   "source": [
    "\n",
    "img_list = img_name_list\n",
    "\n",
    "plt.figure(figsize=(10,10))\n",
    "for img_name in img_list:\n",
    "    direc_path = './'+img_name+'/'\n",
    "\n",
    "    interpreter_list = ['grad', 'lrp34', 'lrp']\n",
    "    l = len(interpreter_list)\n",
    "\n",
    "    test_acc = np.load(direc_path + img_name + '_test_acc.npy')\n",
    "    print(test_acc[-1])\n",
    "    plt.title('test_acc')\n",
    "    plt.plot(test_acc, label=img_name)\n",
    "\n",
    "plt.legend()\n",
    "plt.ylim(0.65, 0.75)\n",
    "plt.show()\n",
    "\n",
    "plt.figure(figsize=(10,10))\n",
    "for img_name in img_list:\n",
    "    if 'lr_1e-4' not in img_name:\n",
    "\n",
    "        direc_path = './'+img_name+'/'\n",
    "\n",
    "        interpreter_list = ['grad', 'lrp34', 'lrp']\n",
    "        l = len(interpreter_list)\n",
    "\n",
    "        test_acc = np.load(direc_path + img_name + 'entropy_grad_R.npy')\n",
    "        print(test_acc[-1])\n",
    "        plt.title('entropy_grad_R')\n",
    "        plt.plot(test_acc, label=img_name)\n",
    "\n",
    "plt.legend()\n",
    "plt.show()\n",
    "\n",
    "plt.figure(figsize=(10,10))\n",
    "for img_name in img_list:\n",
    "    if 'lr_1e-4' not in img_name:\n",
    "\n",
    "        direc_path = './'+img_name+'/'\n",
    "\n",
    "        interpreter_list = ['grad', 'lrp34', 'lrp']\n",
    "        l = len(interpreter_list)\n",
    "\n",
    "        test_acc = np.load(direc_path + img_name + 'entropy_lrp34_R.npy')\n",
    "        print(test_acc[-1])\n",
    "        plt.title('entropy_lrp34_R')\n",
    "        plt.plot(test_acc, label=img_name)\n",
    "\n",
    "plt.legend()\n",
    "plt.show()\n",
    "\n",
    "plt.figure(figsize=(10,10))\n",
    "for img_name in img_list:\n",
    "    if 'lr_1e-4' not in img_name:\n",
    "\n",
    "        direc_path = './'+img_name+'/'\n",
    "\n",
    "        interpreter_list = ['grad', 'lrp34', 'lrp']\n",
    "        l = len(interpreter_list)\n",
    "\n",
    "        test_acc = np.load(direc_path + img_name + 'entropy_lrp_R.npy')\n",
    "        print(test_acc[-1])\n",
    "        plt.title('entropy_lrp_R')\n",
    "        plt.plot(test_acc, label=img_name)\n",
    "\n",
    "plt.legend()\n",
    "plt.show()"
   ]
  },
  {
   "cell_type": "markdown",
   "metadata": {},
   "source": [
    "# 4. visualize results\n",
    "\n",
    "- LRP34_frame\n",
    "- Grad_frame\n",
    "- Grad_uniform\n",
    "- Grad_softmax"
   ]
  },
  {
   "cell_type": "code",
   "execution_count": 8,
   "metadata": {},
   "outputs": [],
   "source": [
    "img_lists = []\n",
    "for img_name in img_name_list:\n",
    "    \n",
    "    img_lists.append(img_name)"
   ]
  },
  {
   "cell_type": "code",
   "execution_count": 9,
   "metadata": {},
   "outputs": [
    {
     "name": "stdout",
     "output_type": "stream",
     "text": [
      "0 190926_after_simplify_VGG19_simple_grad34_frame_lr_1e-4_lambda_1_camera\n",
      "1 190926_after_simplify_VGG19_simple_grad34_frame_lr_3e-5_lambda_4_camera\n"
     ]
    }
   ],
   "source": [
    "interactor_list = []\n",
    "for i, img_name in enumerate(img_lists):\n",
    "    try:\n",
    "        print(i, img_name)\n",
    "        interactor_list.append(class_dict[img_name].show())\n",
    "    except:\n",
    "        pass"
   ]
  },
  {
   "cell_type": "code",
   "execution_count": 12,
   "metadata": {
    "scrolled": false
   },
   "outputs": [
    {
     "name": "stdout",
     "output_type": "stream",
     "text": [
      "['ori', 'grad_cam', 'lrp_T', 'smooth_grad_T', 'smooth_grad']\n"
     ]
    },
    {
     "data": {
      "application/vnd.jupyter.widget-view+json": {
       "model_id": "a125b017096e4d99add960059793f8f6",
       "version_major": 2,
       "version_minor": 0
      },
      "text/plain": [
       "interactive(children=(IntSlider(value=0, description='iter', max=180000, step=10000), Output(layout=Layout(hei…"
      ]
     },
     "metadata": {},
     "output_type": "display_data"
    }
   ],
   "source": [
    "print(interpreter_list)\n",
    "interactor_list[0]"
   ]
  },
  {
   "cell_type": "code",
   "execution_count": 13,
   "metadata": {},
   "outputs": [
    {
     "name": "stdout",
     "output_type": "stream",
     "text": [
      "['ori', 'grad_cam', 'lrp_T', 'smooth_grad_T', 'smooth_grad']\n"
     ]
    },
    {
     "data": {
      "application/vnd.jupyter.widget-view+json": {
       "model_id": "f2f14dae82dd4548917de9a2fa9daf39",
       "version_major": 2,
       "version_minor": 0
      },
      "text/plain": [
       "interactive(children=(IntSlider(value=110000, description='iter', max=180000, step=10000), Output(layout=Layou…"
      ]
     },
     "metadata": {},
     "output_type": "display_data"
    }
   ],
   "source": [
    "print(interpreter_list)\n",
    "interactor_list[1]"
   ]
  },
  {
   "cell_type": "code",
   "execution_count": null,
   "metadata": {},
   "outputs": [],
   "source": []
  }
 ],
 "metadata": {
  "kernelspec": {
   "display_name": "Python 3",
   "language": "python",
   "name": "python3"
  },
  "language_info": {
   "codemirror_mode": {
    "name": "ipython",
    "version": 3
   },
   "file_extension": ".py",
   "mimetype": "text/x-python",
   "name": "python",
   "nbconvert_exporter": "python",
   "pygments_lexer": "ipython3",
   "version": "3.6.6"
  }
 },
 "nbformat": 4,
 "nbformat_minor": 2
}
